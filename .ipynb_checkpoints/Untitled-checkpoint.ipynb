{
 "cells": [
  {
   "cell_type": "markdown",
   "id": "0c136034",
   "metadata": {},
   "source": [
    "# Accessing image data with numpy.array"
   ]
  },
  {
   "cell_type": "code",
   "execution_count": 1,
   "id": "d599d96c",
   "metadata": {},
   "outputs": [],
   "source": [
    "import cv2"
   ]
  },
  {
   "cell_type": "code",
   "execution_count": 5,
   "id": "3fa0f33c",
   "metadata": {},
   "outputs": [
    {
     "data": {
      "text/plain": [
       "(455, 728, 3)"
      ]
     },
     "execution_count": 5,
     "metadata": {},
     "output_type": "execute_result"
    }
   ],
   "source": [
    "img = cv2.imread(\"pic.jpg\")\n",
    "img.shape"
   ]
  },
  {
   "cell_type": "code",
   "execution_count": 6,
   "id": "70bd7a6c",
   "metadata": {},
   "outputs": [
    {
     "name": "stdout",
     "output_type": "stream",
     "text": [
      "255\n"
     ]
    }
   ],
   "source": [
    "img.itemset((150, 120, 0), 255)  # Sets the value of a pixel's blue channel\n",
    "print(img.item(150, 120, 0))  # Prints the value of a pixel's blue channel"
   ]
  },
  {
   "cell_type": "code",
   "execution_count": 14,
   "id": "c44ba37f",
   "metadata": {},
   "outputs": [
    {
     "data": {
      "text/plain": [
       "array([[[  7,   0,   3],\n",
       "        [  7,   0,   3],\n",
       "        [  7,   0,   3],\n",
       "        ...,\n",
       "        [241, 229, 225],\n",
       "        [241, 229, 225],\n",
       "        [240, 228, 224]],\n",
       "\n",
       "       [[  7,   0,   3],\n",
       "        [  7,   0,   3],\n",
       "        [  7,   0,   3],\n",
       "        ...,\n",
       "        [241, 229, 225],\n",
       "        [241, 229, 225],\n",
       "        [241, 229, 225]],\n",
       "\n",
       "       [[  7,   0,   3],\n",
       "        [  7,   0,   3],\n",
       "        [  7,   0,   3],\n",
       "        ...,\n",
       "        [241, 229, 225],\n",
       "        [241, 229, 225],\n",
       "        [241, 229, 225]],\n",
       "\n",
       "       ...,\n",
       "\n",
       "       [[ 14,   9,  11],\n",
       "        [ 19,  14,  16],\n",
       "        [ 20,  15,  17],\n",
       "        ...,\n",
       "        [ 76,  60,  53],\n",
       "        [ 75,  59,  52],\n",
       "        [ 75,  59,  52]],\n",
       "\n",
       "       [[  9,   4,   6],\n",
       "        [ 11,   6,   8],\n",
       "        [ 12,   7,   9],\n",
       "        ...,\n",
       "        [ 72,  56,  49],\n",
       "        [ 71,  58,  50],\n",
       "        [ 72,  59,  51]],\n",
       "\n",
       "       [[  4,   0,   1],\n",
       "        [  4,   0,   1],\n",
       "        [  4,   0,   1],\n",
       "        ...,\n",
       "        [ 68,  52,  45],\n",
       "        [ 66,  55,  47],\n",
       "        [ 67,  56,  48]]], dtype=uint8)"
      ]
     },
     "execution_count": 14,
     "metadata": {},
     "output_type": "execute_result"
    }
   ],
   "source": [
    "img"
   ]
  },
  {
   "cell_type": "code",
   "execution_count": 13,
   "id": "3d1d97b0",
   "metadata": {},
   "outputs": [
    {
     "data": {
      "text/plain": [
       "(728, 3)"
      ]
     },
     "execution_count": 13,
     "metadata": {},
     "output_type": "execute_result"
    }
   ],
   "source": [
    "img[0].shape"
   ]
  },
  {
   "cell_type": "code",
   "execution_count": 9,
   "id": "39a3a771",
   "metadata": {},
   "outputs": [
    {
     "data": {
      "text/plain": [
       "(455, 728)"
      ]
     },
     "execution_count": 9,
     "metadata": {},
     "output_type": "execute_result"
    }
   ],
   "source": [
    "img[:, :, 0].shape #blue channel"
   ]
  },
  {
   "cell_type": "code",
   "execution_count": 8,
   "id": "835af17d",
   "metadata": {},
   "outputs": [
    {
     "data": {
      "text/plain": [
       "(455, 728)"
      ]
     },
     "execution_count": 8,
     "metadata": {},
     "output_type": "execute_result"
    }
   ],
   "source": [
    "img[:, :, 1].shape #green channel"
   ]
  },
  {
   "cell_type": "code",
   "execution_count": 10,
   "id": "dc032d21",
   "metadata": {},
   "outputs": [
    {
     "data": {
      "text/plain": [
       "(455, 728)"
      ]
     },
     "execution_count": 10,
     "metadata": {},
     "output_type": "execute_result"
    }
   ],
   "source": [
    "img[:, :, 2].shape #red channel"
   ]
  },
  {
   "cell_type": "code",
   "execution_count": 20,
   "id": "5a19d450",
   "metadata": {},
   "outputs": [],
   "source": [
    "img = cv2.imread('pic.jpg')\n",
    "img[:, :, 1] = 0"
   ]
  },
  {
   "cell_type": "code",
   "execution_count": 27,
   "id": "0df95078",
   "metadata": {},
   "outputs": [
    {
     "data": {
      "text/plain": [
       "(100, 100, 3)"
      ]
     },
     "execution_count": 27,
     "metadata": {},
     "output_type": "execute_result"
    }
   ],
   "source": [
    "img[0:100, 0:100].shape"
   ]
  },
  {
   "cell_type": "markdown",
   "id": "a50f86b8",
   "metadata": {},
   "source": [
    "# ROI"
   ]
  },
  {
   "cell_type": "code",
   "execution_count": 28,
   "id": "ab44c383",
   "metadata": {},
   "outputs": [],
   "source": [
    "img = cv2.imread('pic.jpg')\n",
    "my_roi = img[0:100,0:100]\n",
    "img[300:400, 300:400] = my_roi"
   ]
  },
  {
   "cell_type": "code",
   "execution_count": 29,
   "id": "2aab4520",
   "metadata": {},
   "outputs": [
    {
     "name": "stdout",
     "output_type": "stream",
     "text": [
      "(455, 728, 3)\n",
      "993720\n",
      "uint8\n"
     ]
    }
   ],
   "source": [
    "img = cv2.imread('pic.jpg')\n",
    "print(img.shape)\n",
    "print(img.size)\n",
    "print(img.dtype)"
   ]
  },
  {
   "cell_type": "markdown",
   "id": "007eff81",
   "metadata": {},
   "source": [
    "# Reading/writing a video file"
   ]
  },
  {
   "cell_type": "code",
   "execution_count": 30,
   "id": "89474d29",
   "metadata": {},
   "outputs": [
    {
     "data": {
      "text/plain": [
       "29.97"
      ]
     },
     "execution_count": 30,
     "metadata": {},
     "output_type": "execute_result"
    }
   ],
   "source": [
    "import cv2\n",
    "\n",
    "videoCapture = cv2.VideoCapture('Popcorn4.avi')\n",
    "fps = videoCapture.get(cv2.CAP_PROP_FPS)\n",
    "fps"
   ]
  },
  {
   "cell_type": "code",
   "execution_count": 32,
   "id": "0353b796",
   "metadata": {},
   "outputs": [
    {
     "data": {
      "text/plain": [
       "(480, 272)"
      ]
     },
     "execution_count": 32,
     "metadata": {},
     "output_type": "execute_result"
    }
   ],
   "source": [
    "size = (int(videoCapture.get(cv2.CAP_PROP_FRAME_WIDTH)),int(videoCapture.get(cv2.CAP_PROP_FRAME_HEIGHT)))\n",
    "size"
   ]
  },
  {
   "cell_type": "code",
   "execution_count": 33,
   "id": "25540a5d",
   "metadata": {},
   "outputs": [],
   "source": [
    "videoWriter = cv2.VideoWriter(\n",
    "    'Popcorn4.avi', cv2.VideoWriter_fourcc('I','4','2','0'),\n",
    "    fps, size)"
   ]
  },
  {
   "cell_type": "code",
   "execution_count": 35,
   "id": "733693ff",
   "metadata": {},
   "outputs": [
    {
     "data": {
      "text/plain": [
       "True"
      ]
     },
     "execution_count": 35,
     "metadata": {},
     "output_type": "execute_result"
    }
   ],
   "source": [
    "success, frame = videoCapture.read()\n",
    "success"
   ]
  },
  {
   "cell_type": "code",
   "execution_count": 37,
   "id": "a8a2d761",
   "metadata": {},
   "outputs": [
    {
     "data": {
      "text/plain": [
       "(272, 480, 3)"
      ]
     },
     "execution_count": 37,
     "metadata": {},
     "output_type": "execute_result"
    }
   ],
   "source": [
    "frame.shape"
   ]
  },
  {
   "cell_type": "code",
   "execution_count": 38,
   "id": "9f8089e0",
   "metadata": {},
   "outputs": [],
   "source": [
    "while success:  # Loop until there are no more frames.\n",
    "    videoWriter.write(frame)\n",
    "    success, frame = videoCapture.read()"
   ]
  },
  {
   "cell_type": "markdown",
   "id": "12ea0a89",
   "metadata": {},
   "source": [
    "# Capturing camera frames"
   ]
  },
  {
   "cell_type": "code",
   "execution_count": 42,
   "id": "c5d835a4",
   "metadata": {},
   "outputs": [],
   "source": [
    "import cv2\n",
    "\n",
    "cameraCapture = cv2.VideoCapture(0)\n",
    "fps = 30  # An assumption\n",
    "size = (int(cameraCapture.get(cv2.CAP_PROP_FRAME_WIDTH)),\n",
    "        int(cameraCapture.get(cv2.CAP_PROP_FRAME_HEIGHT)))\n",
    "videoWriter = cv2.VideoWriter(\n",
    "    'MyOutputVid.avi', cv2.VideoWriter_fourcc('I','4','2','0'),\n",
    "    fps, size)\n",
    "\n",
    "success, frame = cameraCapture.read()\n",
    "numFramesRemaining = 10 * fps - 1 # 10 seconds of frames\n",
    "while success and numFramesRemaining > 0:\n",
    "    videoWriter.write(frame)\n",
    "    success, frame = cameraCapture.read()\n",
    "    numFramesRemaining -= 1"
   ]
  },
  {
   "cell_type": "code",
   "execution_count": null,
   "id": "f973978a",
   "metadata": {},
   "outputs": [],
   "source": []
  }
 ],
 "metadata": {
  "kernelspec": {
   "display_name": "Python 3",
   "language": "python",
   "name": "python3"
  },
  "language_info": {
   "codemirror_mode": {
    "name": "ipython",
    "version": 3
   },
   "file_extension": ".py",
   "mimetype": "text/x-python",
   "name": "python",
   "nbconvert_exporter": "python",
   "pygments_lexer": "ipython3",
   "version": "3.8.8"
  }
 },
 "nbformat": 4,
 "nbformat_minor": 5
}
